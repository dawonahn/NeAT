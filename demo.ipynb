{
 "cells": [
  {
   "cell_type": "code",
   "execution_count": null,
   "metadata": {},
   "outputs": [],
   "source": [
    "import time\n",
    "import numpy as np\n",
    "from dotmap import DotMap\n",
    "\n",
    "import torch\n",
    "import torch.nn as nn\n",
    "import torch.optim as optim\n",
    "import torch.nn.functional as F\n",
    "from torch.utils.data import DataLoader\n",
    "from torch.nn.parameter import Parameter\n",
    "\n",
    "import sys\n",
    "sys.path.append('src')\n",
    "from read import *\n",
    "from utils import *\n",
    "from metrics import *\n",
    "from model import *\n",
    "from cpd import *"
   ]
  },
  {
   "cell_type": "code",
   "execution_count": null,
   "metadata": {},
   "outputs": [],
   "source": [
    "name = 'ml'\n",
    "device = 'cuda:0'\n",
    "cfg = DotMap()\n",
    "cfg.dataset = name\n",
    "cfg.device = device\n",
    "cfg.rpath = './datasets'\n",
    "cfg.neg_sampling = 'neg_sample0'"
   ]
  },
  {
   "cell_type": "code",
   "execution_count": null,
   "metadata": {},
   "outputs": [],
   "source": [
    "\n",
    "cfg.rank = 32\n",
    "cfg.layer_dims = [3, 32, 1]\n",
    "cfg.depth = len(cfg.layer_dims)\n",
    "cfg.lr = 1e-3\n",
    "cfg.wd = 1e-4\n",
    "cfg.dropout =  0.8\n",
    "cfg.dropout2 =  0.2\n",
    "epochs = 1000\n",
    "cfg.batch_size = 1024\n"
   ]
  },
  {
   "cell_type": "code",
   "execution_count": null,
   "metadata": {},
   "outputs": [],
   "source": [
    "tensor= read_data(cfg)\n",
    "cfg.sizes = tensor.sizes\n",
    "dataset = COODataset(tensor.train_i, tensor.train_v)\n",
    "dataloader = DataLoader(dataset, batch_size=cfg.batch_size, shuffle=True)"
   ]
  },
  {
   "cell_type": "markdown",
   "metadata": {},
   "source": [
    "# NeAT"
   ]
  },
  {
   "cell_type": "code",
   "execution_count": null,
   "metadata": {},
   "outputs": [],
   "source": [
    "# create the model\n",
    "model = NeAT(cfg, cfg.sizes).to(device)\n",
    "loss_fn = nn.BCELoss(reduction='mean')\n",
    "optimizer = optim.Adam(model.parameters(), lr=cfg.lr, weight_decay=cfg.wd)\n",
    "m = nn.Sigmoid()"
   ]
  },
  {
   "cell_type": "code",
   "execution_count": null,
   "metadata": {},
   "outputs": [],
   "source": [
    "flag = 0\n",
    "err_lst = []\n",
    "old_valid_acc = 1e+6\n",
    "# train the model\n",
    "for epoch in range(epochs):\n",
    "    start = time.time()\n",
    "    model.train()\n",
    "    epoch_loss = 0\n",
    "    for batch in dataloader:\n",
    "        optimizer.zero_grad()\n",
    "        inputs, targets = batch[0], batch[1]\n",
    "        outputs = model(inputs)\n",
    "        loss = loss_fn(m(outputs), targets)\n",
    "        loss.backward()\n",
    "        optimizer.step()\n",
    "        epoch_loss += loss.item()\n",
    "    model.eval()\n",
    "    end = time.time()\n",
    "    if (epoch+1) % 1 == 0:\n",
    "        with torch.no_grad():\n",
    "            val_rec = m(model(tensor.valid_i))\n",
    "            r = eval_(val_rec.data, tensor.valid_v)\n",
    "            print(f\"Epochs {epoch} {end-start:.2}s elapsed || \"\n",
    "                    f\"Acc:{r['acc']:.4f} Recall:{r['recall']:.4f}\"\n",
    "                    f\"Prec.:{r['prec']:.4f} F1:{r['f1']:.4f} AUC : {r['auc']:.4f}\")\n",
    "\n",
    "            if (old_valid_acc > r['acc']):\n",
    "                flag +=1\n",
    "            if flag == 5:\n",
    "                break\n",
    "            old_valid_acc = r['acc']\n",
    "\n",
    "    "
   ]
  },
  {
   "cell_type": "code",
   "execution_count": null,
   "metadata": {},
   "outputs": [],
   "source": [
    "with torch.no_grad():\n",
    "    val_rec = m(model(tensor.valid_i))\n",
    "    r = eval_(val_rec.data, tensor.valid_v)\n",
    "    print(f\"Epochs {epoch} {end-start:.2}s elapsed || \"\n",
    "            f\"Acc:{r['acc']:.4f} Recall:{r['recall']:.4f}\"\n",
    "            f\"Prec.:{r['prec']:.4f} F1:{r['f1']:.4f} AUC : {r['auc']:.4f}\")"
   ]
  },
  {
   "cell_type": "markdown",
   "metadata": {},
   "source": [
    "# CPD casted as classification"
   ]
  },
  {
   "cell_type": "code",
   "execution_count": null,
   "metadata": {},
   "outputs": [],
   "source": [
    "# create the model\n",
    "model = CPD(cfg).to(device)\n",
    "loss_fn = nn.BCELoss(reduction='mean')\n",
    "optimizer = optim.Adam(model.parameters(), lr=cfg.lr, weight_decay=cfg.wd)\n",
    "m = nn.Sigmoid()"
   ]
  },
  {
   "cell_type": "code",
   "execution_count": null,
   "metadata": {},
   "outputs": [],
   "source": [
    "flag = 0\n",
    "err_lst = []\n",
    "old_valid_acc = 1e+6\n",
    "# train the model\n",
    "for epoch in range(epochs):\n",
    "    start = time.time()\n",
    "    model.train()\n",
    "    epoch_loss = 0\n",
    "    for batch in dataloader:\n",
    "        optimizer.zero_grad()\n",
    "        inputs, targets = batch[0], batch[1]\n",
    "        outputs = model(inputs)\n",
    "        loss = loss_fn(m(outputs), targets)\n",
    "        loss.backward()\n",
    "        optimizer.step()\n",
    "        epoch_loss += loss.item()\n",
    "    model.eval()\n",
    "    end = time.time()\n",
    "    if (epoch+1) % 1 == 0:\n",
    "        with torch.no_grad():\n",
    "            val_rec = m(model(tensor.valid_i))\n",
    "            r = eval_(val_rec.data, tensor.valid_v)\n",
    "            print(f\"Epochs {epoch} {end-start:.2}s elapsed || \"\n",
    "                    f\"Acc:{r['acc']:.4f} Recall:{r['recall']:.4f}\"\n",
    "                    f\"Prec.:{r['prec']:.4f} F1:{r['f1']:.4f} AUC : {r['auc']:.4f}\")\n",
    "\n",
    "            if (old_valid_acc > r['acc']):\n",
    "                flag +=1\n",
    "            if flag == 5:\n",
    "                break\n",
    "            old_valid_acc = r['acc']\n",
    "\n",
    "    "
   ]
  },
  {
   "cell_type": "markdown",
   "metadata": {},
   "source": [
    "# CPD with recon err."
   ]
  },
  {
   "cell_type": "code",
   "execution_count": null,
   "metadata": {},
   "outputs": [],
   "source": [
    "cfg.rank = 32\n",
    "cfg.lr = 1e-2\n",
    "cfg.wd = 1e-3\n",
    "epochs = 2000\n",
    "cfg.batch_size = 1024\n"
   ]
  },
  {
   "cell_type": "code",
   "execution_count": null,
   "metadata": {},
   "outputs": [],
   "source": [
    "# create the model\n",
    "model = CPD(cfg).to(device)\n",
    "optimizer = optim.Adam(model.parameters(), lr=cfg.lr, weight_decay=cfg.wd)\n",
    "m = nn.Sigmoid()"
   ]
  },
  {
   "cell_type": "code",
   "execution_count": null,
   "metadata": {},
   "outputs": [],
   "source": [
    "flag = 0\n",
    "err_lst = []\n",
    "old_valid_rmse = 1e+6\n",
    "# train the model\n",
    "for epoch in range(epochs):\n",
    "    start = time.time()\n",
    "    optimizer.zero_grad()\n",
    "    rec = model(tensor.train_i)\n",
    "    loss = torch.sqrt(((rec - tensor.train_v) ** 2).sum())\n",
    "    loss.backward()\n",
    "    optimizer.step()\n",
    "    end = time.time()\n",
    "    if (epoch+1) % 10 == 0:\n",
    "        with torch.no_grad():\n",
    "            val_rec = model(tensor.valid_i)\n",
    "            train_rmse = rmse(rec, tensor.train_v)\n",
    "            valid_rmse = rmse(val_rec, tensor.valid_v)\n",
    "            print(f\"Epochs {epoch} {end-start:.2}s elapsed || \"\n",
    "                    f\"TrainRMSE: {train_rmse:.4f}\\t\"\n",
    "                    f\"ValidRMSE: {valid_rmse:.4f}\\t\")\n",
    "                    \n",
    "\n",
    "            if (old_valid_rmse < valid_rmse):\n",
    "                flag +=1\n",
    "            if flag == 10:\n",
    "                break\n",
    "            old_valid_rmse = valid_rmse\n",
    "    "
   ]
  },
  {
   "cell_type": "code",
   "execution_count": null,
   "metadata": {},
   "outputs": [],
   "source": [
    "with torch.no_grad():\n",
    "    test_rec = model(tensor.test_i)\n",
    "    r = eval_(test_rec.data, tensor.test_v)\n",
    "    print(f\"Acc:{r['acc']:.4f} Recall:{r['recall']:.4f}\"\n",
    "    f\"Prec.:{r['prec']:.4f} F1:{r['f1']:.4f} AUC : {r['auc']:.4f}\")"
   ]
  },
  {
   "cell_type": "code",
   "execution_count": null,
   "metadata": {},
   "outputs": [],
   "source": []
  }
 ],
 "metadata": {
  "kernelspec": {
   "display_name": "tensor",
   "language": "python",
   "name": "python3"
  },
  "language_info": {
   "codemirror_mode": {
    "name": "ipython",
    "version": 3
   },
   "file_extension": ".py",
   "mimetype": "text/x-python",
   "name": "python",
   "nbconvert_exporter": "python",
   "pygments_lexer": "ipython3",
   "version": "3.9.15"
  }
 },
 "nbformat": 4,
 "nbformat_minor": 2
}
