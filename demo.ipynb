{
 "cells": [
  {
   "cell_type": "code",
   "execution_count": 1,
   "metadata": {},
   "outputs": [
    {
     "name": "stderr",
     "output_type": "stream",
     "text": [
      "2024-07-16 19:36:55.930624: I tensorflow/core/platform/cpu_feature_guard.cc:193] This TensorFlow binary is optimized with oneAPI Deep Neural Network Library (oneDNN) to use the following CPU instructions in performance-critical operations:  AVX2 FMA\n",
      "To enable them in other operations, rebuild TensorFlow with the appropriate compiler flags.\n",
      "2024-07-16 19:36:56.800572: W tensorflow/compiler/xla/stream_executor/platform/default/dso_loader.cc:64] Could not load dynamic library 'libnvinfer.so.7'; dlerror: libnvinfer.so.7: cannot open shared object file: No such file or directory\n",
      "2024-07-16 19:36:56.800645: W tensorflow/compiler/xla/stream_executor/platform/default/dso_loader.cc:64] Could not load dynamic library 'libnvinfer_plugin.so.7'; dlerror: libnvinfer_plugin.so.7: cannot open shared object file: No such file or directory\n",
      "2024-07-16 19:36:56.800651: W tensorflow/compiler/tf2tensorrt/utils/py_utils.cc:38] TF-TRT Warning: Cannot dlopen some TensorRT libraries. If you would like to use Nvidia GPU with TensorRT, please make sure the missing libraries mentioned above are installed properly.\n"
     ]
    }
   ],
   "source": [
    "import time\n",
    "import numpy as np\n",
    "from dotmap import DotMap\n",
    "\n",
    "import torch\n",
    "import torch.nn as nn\n",
    "import torch.optim as optim\n",
    "import torch.nn.functional as F\n",
    "from torch.utils.data import DataLoader\n",
    "from torch.nn.parameter import Parameter\n",
    "\n",
    "import sys\n",
    "sys.path.append('src')\n",
    "from read import *\n",
    "from utils import *\n",
    "from metrics import *\n",
    "from model import *"
   ]
  },
  {
   "cell_type": "code",
   "execution_count": 2,
   "metadata": {},
   "outputs": [],
   "source": [
    "name = 'ml'\n",
    "device = 'cuda:0'\n",
    "cfg = DotMap()\n",
    "cfg.dataset = name\n",
    "cfg.device = device\n",
    "cfg.rpath = './datasets'\n",
    "cfg.neg_sampling = 'neg_sample0'"
   ]
  },
  {
   "cell_type": "code",
   "execution_count": 4,
   "metadata": {},
   "outputs": [],
   "source": [
    "\n",
    "cfg.rank = 32\n",
    "cfg.layer_dims = [3, 32, 1]\n",
    "cfg.depth = len(cfg.layer_dims)\n",
    "cfg.lr = 1e-3\n",
    "cfg.wd = 1e-4\n",
    "cfg.dropout =  0.8\n",
    "cfg.dropout2 =  0.2\n",
    "epochs = 1000\n",
    "cfg.batch_size = 1024\n"
   ]
  },
  {
   "cell_type": "code",
   "execution_count": 6,
   "metadata": {},
   "outputs": [
    {
     "name": "stdout",
     "output_type": "stream",
     "text": [
      "DATASET: ml || size: [610, 9724, 4110] & training nnz: 161336\n"
     ]
    }
   ],
   "source": [
    "tensor= read_data(cfg)\n",
    "cfg.sizes = tensor.sizes\n",
    "dataset = COODataset(tensor.train_i, tensor.train_v)\n",
    "dataloader = DataLoader(dataset, batch_size=cfg.batch_size, shuffle=True)"
   ]
  },
  {
   "cell_type": "code",
   "execution_count": 7,
   "metadata": {},
   "outputs": [],
   "source": [
    "# create the model\n",
    "model = NeAT(cfg, cfg.sizes).to(device)\n",
    "loss_fn = nn.BCELoss(reduction='mean')\n",
    "optimizer = optim.Adam(model.parameters(), lr=cfg.lr, weight_decay=cfg.wd)\n",
    "m = nn.Sigmoid()"
   ]
  },
  {
   "cell_type": "code",
   "execution_count": 13,
   "metadata": {},
   "outputs": [
    {
     "name": "stdout",
     "output_type": "stream",
     "text": [
      "Epochs 0 1.6s elapsed || Acc:0.9816 Recall:0.9741Prec.:0.9888 F1:0.9814 AUC : 0.9984\n",
      "Epochs 1 1.5s elapsed || Acc:0.9830 Recall:0.9779Prec.:0.9881 F1:0.9830 AUC : 0.9984\n",
      "Epochs 2 1.9s elapsed || Acc:0.9835 Recall:0.9779Prec.:0.9891 F1:0.9834 AUC : 0.9985\n",
      "Epochs 3 1.5s elapsed || Acc:0.9832 Recall:0.9776Prec.:0.9887 F1:0.9831 AUC : 0.9985\n",
      "Epochs 4 1.4s elapsed || Acc:0.9834 Recall:0.9793Prec.:0.9874 F1:0.9833 AUC : 0.9985\n",
      "Epochs 5 1.5s elapsed || Acc:0.9830 Recall:0.9769Prec.:0.9890 F1:0.9829 AUC : 0.9985\n",
      "Epochs 6 1.6s elapsed || Acc:0.9844 Recall:0.9813Prec.:0.9874 F1:0.9843 AUC : 0.9985\n",
      "Epochs 7 1.3s elapsed || Acc:0.9838 Recall:0.9793Prec.:0.9882 F1:0.9837 AUC : 0.9984\n",
      "Epochs 8 1.6s elapsed || Acc:0.9836 Recall:0.9788Prec.:0.9883 F1:0.9835 AUC : 0.9985\n"
     ]
    }
   ],
   "source": [
    "flag = 0\n",
    "err_lst = []\n",
    "old_valid_acc = 1e+6\n",
    "# train the model\n",
    "for epoch in range(epochs):\n",
    "    start = time.time()\n",
    "    model.train()\n",
    "    epoch_loss = 0\n",
    "    for batch in dataloader:\n",
    "        optimizer.zero_grad()\n",
    "        inputs, targets = batch[0], batch[1]\n",
    "        outputs = model(inputs)\n",
    "        loss = loss_fn(m(outputs), targets)\n",
    "        loss.backward()\n",
    "        optimizer.step()\n",
    "        epoch_loss += loss.item()\n",
    "    model.eval()\n",
    "    end = time.time()\n",
    "    if (epoch+1) % 1 == 0:\n",
    "        with torch.no_grad():\n",
    "            train_rec = m(model(tensor.train_i))\n",
    "            val_rec = m(model(tensor.valid_i))\n",
    "            r = eval_(val_rec.data, tensor.valid_v)\n",
    "            print(f\"Epochs {epoch} {end-start:.2}s elapsed || \"\n",
    "                    f\"Acc:{r['acc']:.4f} Recall:{r['recall']:.4f}\"\n",
    "                    f\"Prec.:{r['prec']:.4f} F1:{r['f1']:.4f} AUC : {r['auc']:.4f}\")\n",
    "\n",
    "            if (old_valid_acc > r['acc']):\n",
    "                flag +=1\n",
    "            if flag == 5:\n",
    "                break\n",
    "            old_valid_acc = r['acc']\n",
    "\n",
    "        # err_lst.append([train_rmse.item(), valid_rmse.item()])\n",
    "    "
   ]
  },
  {
   "cell_type": "code",
   "execution_count": null,
   "metadata": {},
   "outputs": [],
   "source": []
  }
 ],
 "metadata": {
  "kernelspec": {
   "display_name": "tensor",
   "language": "python",
   "name": "python3"
  },
  "language_info": {
   "codemirror_mode": {
    "name": "ipython",
    "version": 3
   },
   "file_extension": ".py",
   "mimetype": "text/x-python",
   "name": "python",
   "nbconvert_exporter": "python",
   "pygments_lexer": "ipython3",
   "version": "3.9.15"
  }
 },
 "nbformat": 4,
 "nbformat_minor": 2
}
