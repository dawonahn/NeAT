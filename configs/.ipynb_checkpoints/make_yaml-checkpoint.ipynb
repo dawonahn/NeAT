{
 "cells": [
  {
   "cell_type": "markdown",
   "id": "4389b6ee-2ea7-4704-aefe-7a988e80d406",
   "metadata": {},
   "source": [
    "# Make Costco yaml files"
   ]
  },
  {
   "cell_type": "code",
   "execution_count": 34,
   "id": "2c1fa872-d68f-40cf-8ded-f1c8a7b0ee1c",
   "metadata": {},
   "outputs": [],
   "source": [
    "import yaml\n",
    "with open('costco.yaml', 'r') as file:\n",
    "    temp = yaml.safe_load(file)"
   ]
  },
  {
   "cell_type": "code",
   "execution_count": 35,
   "id": "3e8a62bc-c558-460f-986f-1978ed4c0a70",
   "metadata": {},
   "outputs": [],
   "source": [
    "datasets = ['ml', 'yelp', 'dblp',\n",
    "            'lastfm', 'SG','reddit',\n",
    "            'foursquare_nyc', 'foursquare_tky', 'yahoo_msg', ]"
   ]
  },
  {
   "cell_type": "code",
   "execution_count": 38,
   "id": "80c7882a-6441-4ad4-ad69-2bc6fd184bb3",
   "metadata": {},
   "outputs": [
    {
     "data": {
      "text/plain": [
       "[0.0001, 0.001, 0.01, 0.1, 1, 10]"
      ]
     },
     "execution_count": 38,
     "metadata": {},
     "output_type": "execute_result"
    }
   ],
   "source": [
    "temp['parameters']['wd']['values'] = [0.0001, 0.001, 0.01, 0.1, 1]"
   ]
  },
  {
   "cell_type": "code",
   "execution_count": 30,
   "id": "e06c3076-f9b2-47ec-9235-495ceb17856a",
   "metadata": {
    "tags": []
   },
   "outputs": [
    {
     "name": "stdout",
     "output_type": "stream",
     "text": [
      "ml ['ml']\n",
      "yelp ['yelp']\n",
      "dblp ['dblp']\n",
      "lastfm ['lastfm']\n",
      "SG ['SG']\n",
      "reddit ['reddit']\n",
      "foursquare_nyc ['foursquare_nyc']\n",
      "foursquare_tky ['foursquare_tky']\n",
      "yahoo_msg ['yahoo_msg']\n"
     ]
    }
   ],
   "source": [
    "for name in datasets:\n",
    "    \n",
    "    temp['parameters']['dataset']['values'] = [name]\n",
    "    with open(f'costco_{name}.yaml', 'w') as file:\n",
    "        yaml.dump(temp, file)\n",
    "    print(name, temp['parameters']['dataset']['values'])"
   ]
  },
  {
   "cell_type": "markdown",
   "id": "cf130bdc-fd41-41a1-9f06-d198b967b6ee",
   "metadata": {},
   "source": [
    "# Make CP yaml files"
   ]
  },
  {
   "cell_type": "code",
   "execution_count": 31,
   "id": "d98c957d-3ea1-4cf1-abf3-711fcf71961a",
   "metadata": {},
   "outputs": [],
   "source": [
    "import yaml\n",
    "with open('cp.yaml', 'r') as file:\n",
    "    temp = yaml.safe_load(file)"
   ]
  },
  {
   "cell_type": "code",
   "execution_count": 32,
   "id": "1f9423ee-ab77-42f6-a690-98d4b0859e6f",
   "metadata": {},
   "outputs": [],
   "source": [
    "datasets = ['ml', 'yelp', 'dblp',\n",
    "            'lastfm', 'SG','reddit',\n",
    "            'foursquare_nyc', 'foursquare_tky', 'yahoo_msg', ]"
   ]
  },
  {
   "cell_type": "code",
   "execution_count": 33,
   "id": "adeaa54b-6ba8-4199-a52d-a562db074edd",
   "metadata": {
    "tags": []
   },
   "outputs": [
    {
     "name": "stdout",
     "output_type": "stream",
     "text": [
      "ml ['ml']\n",
      "yelp ['yelp']\n",
      "dblp ['dblp']\n",
      "lastfm ['lastfm']\n",
      "SG ['SG']\n",
      "reddit ['reddit']\n",
      "foursquare_nyc ['foursquare_nyc']\n",
      "foursquare_tky ['foursquare_tky']\n",
      "yahoo_msg ['yahoo_msg']\n"
     ]
    }
   ],
   "source": [
    "for name in datasets:\n",
    "    \n",
    "    temp['parameters']['dataset']['values'] = [name]\n",
    "    with open(f'cp_{name}.yaml', 'w') as file:\n",
    "        yaml.dump(temp, file)\n",
    "    print(name, temp['parameters']['dataset']['values'])"
   ]
  },
  {
   "cell_type": "code",
   "execution_count": null,
   "id": "9cd5fd80-1f30-4ba5-9ee9-8e2fe6a9e09d",
   "metadata": {},
   "outputs": [],
   "source": []
  }
 ],
 "metadata": {
  "kernelspec": {
   "display_name": "tensor",
   "language": "python",
   "name": "tensor"
  },
  "language_info": {
   "codemirror_mode": {
    "name": "ipython",
    "version": 3
   },
   "file_extension": ".py",
   "mimetype": "text/x-python",
   "name": "python",
   "nbconvert_exporter": "python",
   "pygments_lexer": "ipython3",
   "version": "3.9.15"
  }
 },
 "nbformat": 4,
 "nbformat_minor": 5
}
